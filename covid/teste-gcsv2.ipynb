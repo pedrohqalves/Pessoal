{
 "cells": [
  {
   "cell_type": "code",
   "execution_count": 205,
   "metadata": {},
   "outputs": [
    {
     "data": {
      "text/plain": [
       "<gcsfs.core.GCSFileSystem at 0x1a9178ffcf8>"
      ]
     },
     "execution_count": 205,
     "metadata": {},
     "output_type": "execute_result"
    }
   ],
   "source": [
    "import pandas as pd\n",
    "import gcsfs\n",
    "gcsfs.GCSFileSystem(project='teste-covid')\n"
   ]
  },
  {
   "cell_type": "code",
   "execution_count": 167,
   "metadata": {},
   "outputs": [],
   "source": [
    "# Getting the source file from github\n",
    "\n",
    "table_confirmed = pd.read_csv('https://raw.githubusercontent.com/CSSEGISandData/COVID-19/master/csse_covid_19_data/csse_covid_19_time_series/time_series_covid19_confirmed_global.csv')\n",
    "table_deaths = pd.read_csv('https://raw.githubusercontent.com/CSSEGISandData/COVID-19/master/csse_covid_19_data/csse_covid_19_time_series/time_series_covid19_deaths_global.csv')\n",
    "table_recovered = pd.read_csv('https://raw.githubusercontent.com/CSSEGISandData/COVID-19/master/csse_covid_19_data/csse_covid_19_time_series/time_series_covid19_recovered_global.csv')"
   ]
  },
  {
   "cell_type": "code",
   "execution_count": 168,
   "metadata": {},
   "outputs": [],
   "source": [
    "#Stacking the dataframe so we dont increase the amount of columns everyday, instead increase rows and maintain schema\n",
    "\n",
    "table_confirmed_final = table_confirmed.set_index(['Country/Region', 'Province/State','Lat','Long']).stack().reset_index()\n",
    "table_deaths_final = table_deaths.set_index(['Country/Region', 'Province/State','Lat','Long']).stack().reset_index()\n",
    "table_recovered_final = table_recovered.set_index(['Country/Region', 'Province/State','Lat','Long']).stack().reset_index()"
   ]
  },
  {
   "cell_type": "code",
   "execution_count": 169,
   "metadata": {},
   "outputs": [],
   "source": [
    "#Renaming the columns\n",
    "\n",
    "table_confirmed_final = table_confirmed_final.rename(columns={'level_4':'date',0:'confirmed'})\n",
    "table_deaths_final = table_deaths_final.rename(columns={'level_4':'date',0:'deaths'})\n",
    "table_recovered_final = table_recovered_final.rename(columns={'level_4':'date',0:'recovered'})"
   ]
  },
  {
   "cell_type": "code",
   "execution_count": 175,
   "metadata": {},
   "outputs": [],
   "source": [
    "# Merging everything into one dataframe\n",
    "\n",
    "table_final = pd.merge(table_confirmed_final,table_deaths_final, how = 'left', on = ['Country/Region','Province/State','Lat','Long','date'])\n",
    "table_final = pd.merge(table_final,table_recovered_final, how = 'left', on = ['Country/Region','Province/State','Lat','Long','date'])\n"
   ]
  },
  {
   "cell_type": "code",
   "execution_count": 201,
   "metadata": {},
   "outputs": [],
   "source": [
    "#Treating NaN values, which will only occur in deaths and recovered\n",
    "\n",
    "table_final.recovered = table_final.recovered.fillna(0)\n",
    "table_final.recovered = table_final.recovered.apply(lambda x: int(x))\n",
    "table_final.deaths = table_final.deaths.fillna(0)\n",
    "table_final.deaths = table_final.deaths.apply(lambda x: int(x))"
   ]
  },
  {
   "cell_type": "code",
   "execution_count": 208,
   "metadata": {},
   "outputs": [],
   "source": [
    "# Exporting the result to Cloud Storage\n",
    "\n",
    "table_final.to_csv('gs://teste-pedroalves/teste-covid/covid_dataset.csv')\n"
   ]
  },
  {
   "cell_type": "code",
   "execution_count": null,
   "metadata": {},
   "outputs": [],
   "source": []
  }
 ],
 "metadata": {
  "kernelspec": {
   "display_name": "Python 3",
   "language": "python",
   "name": "python3"
  },
  "language_info": {
   "codemirror_mode": {
    "name": "ipython",
    "version": 3
   },
   "file_extension": ".py",
   "mimetype": "text/x-python",
   "name": "python",
   "nbconvert_exporter": "python",
   "pygments_lexer": "ipython3",
   "version": "3.7.1"
  }
 },
 "nbformat": 4,
 "nbformat_minor": 2
}
