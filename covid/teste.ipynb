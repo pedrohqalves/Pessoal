{
 "cells": [
  {
   "cell_type": "code",
   "execution_count": 1,
   "metadata": {},
   "outputs": [
    {
     "name": "stdout",
     "output_type": "stream",
     "text": [
      "Requirement already satisfied: s3fs in c:\\users\\quadr\\anaconda3\\lib\\site-packages (0.4.2)\n",
      "Requirement already satisfied: fsspec>=0.6.0 in c:\\users\\quadr\\anaconda3\\lib\\site-packages (from s3fs) (0.7.2)\n",
      "Requirement already satisfied: botocore>=1.12.91 in c:\\users\\quadr\\anaconda3\\lib\\site-packages (from s3fs) (1.15.41)\n",
      "Requirement already satisfied: docutils<0.16,>=0.10 in c:\\users\\quadr\\anaconda3\\lib\\site-packages (from botocore>=1.12.91->s3fs) (0.14)\n",
      "Requirement already satisfied: python-dateutil<3.0.0,>=2.1 in c:\\users\\quadr\\anaconda3\\lib\\site-packages (from botocore>=1.12.91->s3fs) (2.7.5)\n",
      "Requirement already satisfied: jmespath<1.0.0,>=0.7.1 in c:\\users\\quadr\\anaconda3\\lib\\site-packages (from botocore>=1.12.91->s3fs) (0.9.5)\n",
      "Requirement already satisfied: urllib3<1.26,>=1.20; python_version != \"3.4\" in c:\\users\\quadr\\anaconda3\\lib\\site-packages (from botocore>=1.12.91->s3fs) (1.24.1)\n",
      "Requirement already satisfied: six>=1.5 in c:\\users\\quadr\\anaconda3\\lib\\site-packages (from python-dateutil<3.0.0,>=2.1->botocore>=1.12.91->s3fs) (1.12.0)\n"
     ]
    }
   ],
   "source": [
    "import pandas as pd\n",
    "!pip install s3fs\n",
    "import s3fs"
   ]
  },
  {
   "cell_type": "code",
   "execution_count": 7,
   "metadata": {},
   "outputs": [],
   "source": [
    "table = pd.read_csv('https://raw.githubusercontent.com/CSSEGISandData/COVID-19/master/csse_covid_19_data/csse_covid_19_time_series/time_series_covid19_confirmed_global.csv')"
   ]
  },
  {
   "cell_type": "code",
   "execution_count": 8,
   "metadata": {},
   "outputs": [
    {
     "data": {
      "text/html": [
       "<div>\n",
       "<style scoped>\n",
       "    .dataframe tbody tr th:only-of-type {\n",
       "        vertical-align: middle;\n",
       "    }\n",
       "\n",
       "    .dataframe tbody tr th {\n",
       "        vertical-align: top;\n",
       "    }\n",
       "\n",
       "    .dataframe thead th {\n",
       "        text-align: right;\n",
       "    }\n",
       "</style>\n",
       "<table border=\"1\" class=\"dataframe\">\n",
       "  <thead>\n",
       "    <tr style=\"text-align: right;\">\n",
       "      <th></th>\n",
       "      <th>Province/State</th>\n",
       "      <th>Country/Region</th>\n",
       "      <th>Lat</th>\n",
       "      <th>Long</th>\n",
       "      <th>1/22/20</th>\n",
       "      <th>1/23/20</th>\n",
       "      <th>1/24/20</th>\n",
       "      <th>1/25/20</th>\n",
       "      <th>1/26/20</th>\n",
       "      <th>1/27/20</th>\n",
       "      <th>...</th>\n",
       "      <th>4/10/20</th>\n",
       "      <th>4/11/20</th>\n",
       "      <th>4/12/20</th>\n",
       "      <th>4/13/20</th>\n",
       "      <th>4/14/20</th>\n",
       "      <th>4/15/20</th>\n",
       "      <th>4/16/20</th>\n",
       "      <th>4/17/20</th>\n",
       "      <th>4/18/20</th>\n",
       "      <th>4/19/20</th>\n",
       "    </tr>\n",
       "  </thead>\n",
       "  <tbody>\n",
       "    <tr>\n",
       "      <th>0</th>\n",
       "      <td>NaN</td>\n",
       "      <td>Afghanistan</td>\n",
       "      <td>33.0000</td>\n",
       "      <td>65.0000</td>\n",
       "      <td>0</td>\n",
       "      <td>0</td>\n",
       "      <td>0</td>\n",
       "      <td>0</td>\n",
       "      <td>0</td>\n",
       "      <td>0</td>\n",
       "      <td>...</td>\n",
       "      <td>521</td>\n",
       "      <td>555</td>\n",
       "      <td>607</td>\n",
       "      <td>665</td>\n",
       "      <td>714</td>\n",
       "      <td>784</td>\n",
       "      <td>840</td>\n",
       "      <td>906</td>\n",
       "      <td>933</td>\n",
       "      <td>996</td>\n",
       "    </tr>\n",
       "    <tr>\n",
       "      <th>1</th>\n",
       "      <td>NaN</td>\n",
       "      <td>Albania</td>\n",
       "      <td>41.1533</td>\n",
       "      <td>20.1683</td>\n",
       "      <td>0</td>\n",
       "      <td>0</td>\n",
       "      <td>0</td>\n",
       "      <td>0</td>\n",
       "      <td>0</td>\n",
       "      <td>0</td>\n",
       "      <td>...</td>\n",
       "      <td>416</td>\n",
       "      <td>433</td>\n",
       "      <td>446</td>\n",
       "      <td>467</td>\n",
       "      <td>475</td>\n",
       "      <td>494</td>\n",
       "      <td>518</td>\n",
       "      <td>539</td>\n",
       "      <td>548</td>\n",
       "      <td>562</td>\n",
       "    </tr>\n",
       "    <tr>\n",
       "      <th>2</th>\n",
       "      <td>NaN</td>\n",
       "      <td>Algeria</td>\n",
       "      <td>28.0339</td>\n",
       "      <td>1.6596</td>\n",
       "      <td>0</td>\n",
       "      <td>0</td>\n",
       "      <td>0</td>\n",
       "      <td>0</td>\n",
       "      <td>0</td>\n",
       "      <td>0</td>\n",
       "      <td>...</td>\n",
       "      <td>1761</td>\n",
       "      <td>1825</td>\n",
       "      <td>1914</td>\n",
       "      <td>1983</td>\n",
       "      <td>2070</td>\n",
       "      <td>2160</td>\n",
       "      <td>2268</td>\n",
       "      <td>2418</td>\n",
       "      <td>2534</td>\n",
       "      <td>2629</td>\n",
       "    </tr>\n",
       "    <tr>\n",
       "      <th>3</th>\n",
       "      <td>NaN</td>\n",
       "      <td>Andorra</td>\n",
       "      <td>42.5063</td>\n",
       "      <td>1.5218</td>\n",
       "      <td>0</td>\n",
       "      <td>0</td>\n",
       "      <td>0</td>\n",
       "      <td>0</td>\n",
       "      <td>0</td>\n",
       "      <td>0</td>\n",
       "      <td>...</td>\n",
       "      <td>601</td>\n",
       "      <td>601</td>\n",
       "      <td>638</td>\n",
       "      <td>646</td>\n",
       "      <td>659</td>\n",
       "      <td>673</td>\n",
       "      <td>673</td>\n",
       "      <td>696</td>\n",
       "      <td>704</td>\n",
       "      <td>713</td>\n",
       "    </tr>\n",
       "    <tr>\n",
       "      <th>4</th>\n",
       "      <td>NaN</td>\n",
       "      <td>Angola</td>\n",
       "      <td>-11.2027</td>\n",
       "      <td>17.8739</td>\n",
       "      <td>0</td>\n",
       "      <td>0</td>\n",
       "      <td>0</td>\n",
       "      <td>0</td>\n",
       "      <td>0</td>\n",
       "      <td>0</td>\n",
       "      <td>...</td>\n",
       "      <td>19</td>\n",
       "      <td>19</td>\n",
       "      <td>19</td>\n",
       "      <td>19</td>\n",
       "      <td>19</td>\n",
       "      <td>19</td>\n",
       "      <td>19</td>\n",
       "      <td>19</td>\n",
       "      <td>24</td>\n",
       "      <td>24</td>\n",
       "    </tr>\n",
       "  </tbody>\n",
       "</table>\n",
       "<p>5 rows × 93 columns</p>\n",
       "</div>"
      ],
      "text/plain": [
       "  Province/State Country/Region      Lat     Long  1/22/20  1/23/20  1/24/20  \\\n",
       "0            NaN    Afghanistan  33.0000  65.0000        0        0        0   \n",
       "1            NaN        Albania  41.1533  20.1683        0        0        0   \n",
       "2            NaN        Algeria  28.0339   1.6596        0        0        0   \n",
       "3            NaN        Andorra  42.5063   1.5218        0        0        0   \n",
       "4            NaN         Angola -11.2027  17.8739        0        0        0   \n",
       "\n",
       "   1/25/20  1/26/20  1/27/20  ...  4/10/20  4/11/20  4/12/20  4/13/20  \\\n",
       "0        0        0        0  ...      521      555      607      665   \n",
       "1        0        0        0  ...      416      433      446      467   \n",
       "2        0        0        0  ...     1761     1825     1914     1983   \n",
       "3        0        0        0  ...      601      601      638      646   \n",
       "4        0        0        0  ...       19       19       19       19   \n",
       "\n",
       "   4/14/20  4/15/20  4/16/20  4/17/20  4/18/20  4/19/20  \n",
       "0      714      784      840      906      933      996  \n",
       "1      475      494      518      539      548      562  \n",
       "2     2070     2160     2268     2418     2534     2629  \n",
       "3      659      673      673      696      704      713  \n",
       "4       19       19       19       19       24       24  \n",
       "\n",
       "[5 rows x 93 columns]"
      ]
     },
     "execution_count": 8,
     "metadata": {},
     "output_type": "execute_result"
    }
   ],
   "source": [
    "table.head()"
   ]
  },
  {
   "cell_type": "code",
   "execution_count": 10,
   "metadata": {},
   "outputs": [
    {
     "name": "stdout",
     "output_type": "stream",
     "text": [
      "Collecting google.cloud\n",
      "  Downloading https://files.pythonhosted.org/packages/ba/b1/7c54d1950e7808df06642274e677dbcedba57f75307adf2e5ad8d39e5e0e/google_cloud-0.34.0-py2.py3-none-any.whl\n",
      "Installing collected packages: google.cloud\n",
      "Successfully installed google.cloud\n"
     ]
    }
   ],
   "source": [
    "!pip install cloudstorage"
   ]
  },
  {
   "cell_type": "code",
   "execution_count": 19,
   "metadata": {},
   "outputs": [],
   "source": [
    "import cloudstorage as gcs"
   ]
  },
  {
   "cell_type": "markdown",
   "metadata": {},
   "source": [
    "import os\n",
    "from io import StringIO # if going with no saving csv file\n",
    "\n",
    "# say where your private key to google cloud exists\n",
    "#os.environ['GOOGLE_APPLICATION_CREDENTIALS'] = 'path/to/your-google-cloud-private-key.json'\n",
    "\n",
    "f = StringIO()\n",
    "table.to_csv(f)\n",
    "f.seek(0)\n",
    "gcs.get_bucket('gs://teste-pedroalves/teste-covid').blob('teste-covid.csv').upload_from_file(f, content_type='text/csv')"
   ]
  },
  {
   "cell_type": "code",
   "execution_count": 22,
   "metadata": {},
   "outputs": [
    {
     "name": "stdout",
     "output_type": "stream",
     "text": [
      "Collecting gcsfs\n",
      "  Downloading https://files.pythonhosted.org/packages/18/3b/454be7c97d05e15eb20a0099f425f0ed6b7552e352c77adb923c3872ba14/gcsfs-0.6.1-py2.py3-none-any.whl\n",
      "Requirement already satisfied: decorator in c:\\users\\quadr\\anaconda3\\lib\\site-packages (from gcsfs) (4.3.0)\n",
      "Requirement already satisfied: google-auth-oauthlib in c:\\users\\quadr\\anaconda3\\lib\\site-packages (from gcsfs) (0.4.1)\n",
      "Requirement already satisfied: google-auth>=1.2 in c:\\users\\quadr\\anaconda3\\lib\\site-packages (from gcsfs) (1.14.0)\n",
      "Requirement already satisfied: fsspec>=0.6.0 in c:\\users\\quadr\\anaconda3\\lib\\site-packages (from gcsfs) (0.7.2)\n",
      "Requirement already satisfied: requests in c:\\users\\quadr\\anaconda3\\lib\\site-packages (from gcsfs) (2.21.0)\n",
      "Requirement already satisfied: requests-oauthlib>=0.7.0 in c:\\users\\quadr\\anaconda3\\lib\\site-packages (from google-auth-oauthlib->gcsfs) (1.3.0)\n",
      "Requirement already satisfied: rsa<4.1,>=3.1.4 in c:\\users\\quadr\\anaconda3\\lib\\site-packages (from google-auth>=1.2->gcsfs) (4.0)\n",
      "Requirement already satisfied: setuptools>=40.3.0 in c:\\users\\quadr\\anaconda3\\lib\\site-packages (from google-auth>=1.2->gcsfs) (46.1.3)\n",
      "Requirement already satisfied: pyasn1-modules>=0.2.1 in c:\\users\\quadr\\anaconda3\\lib\\site-packages (from google-auth>=1.2->gcsfs) (0.2.8)\n",
      "Requirement already satisfied: cachetools<5.0,>=2.0.0 in c:\\users\\quadr\\anaconda3\\lib\\site-packages (from google-auth>=1.2->gcsfs) (4.1.0)\n",
      "Requirement already satisfied: six>=1.9.0 in c:\\users\\quadr\\anaconda3\\lib\\site-packages (from google-auth>=1.2->gcsfs) (1.12.0)\n",
      "Requirement already satisfied: certifi>=2017.4.17 in c:\\users\\quadr\\anaconda3\\lib\\site-packages (from requests->gcsfs) (2020.4.5.1)\n",
      "Requirement already satisfied: urllib3<1.25,>=1.21.1 in c:\\users\\quadr\\anaconda3\\lib\\site-packages (from requests->gcsfs) (1.24.1)\n",
      "Requirement already satisfied: chardet<3.1.0,>=3.0.2 in c:\\users\\quadr\\anaconda3\\lib\\site-packages (from requests->gcsfs) (3.0.4)\n",
      "Requirement already satisfied: idna<2.9,>=2.5 in c:\\users\\quadr\\anaconda3\\lib\\site-packages (from requests->gcsfs) (2.8)\n",
      "Requirement already satisfied: oauthlib>=3.0.0 in c:\\users\\quadr\\anaconda3\\lib\\site-packages (from requests-oauthlib>=0.7.0->google-auth-oauthlib->gcsfs) (3.1.0)\n",
      "Requirement already satisfied: pyasn1>=0.1.3 in c:\\users\\quadr\\anaconda3\\lib\\site-packages (from rsa<4.1,>=3.1.4->google-auth>=1.2->gcsfs) (0.4.8)\n",
      "Installing collected packages: gcsfs\n",
      "Successfully installed gcsfs-0.6.1\n"
     ]
    }
   ],
   "source": [
    "!pip install gcsfs"
   ]
  },
  {
   "cell_type": "code",
   "execution_count": 23,
   "metadata": {},
   "outputs": [],
   "source": [
    "import gcsfs"
   ]
  },
  {
   "cell_type": "code",
   "execution_count": 26,
   "metadata": {},
   "outputs": [],
   "source": [
    "table.to_csv('gs://teste-pedroalves/teste-covid.csv')"
   ]
  }
 ],
 "metadata": {
  "kernelspec": {
   "display_name": "Python 3",
   "language": "python",
   "name": "python3"
  },
  "language_info": {
   "codemirror_mode": {
    "name": "ipython",
    "version": 3
   },
   "file_extension": ".py",
   "mimetype": "text/x-python",
   "name": "python",
   "nbconvert_exporter": "python",
   "pygments_lexer": "ipython3",
   "version": "3.7.1"
  }
 },
 "nbformat": 4,
 "nbformat_minor": 2
}
